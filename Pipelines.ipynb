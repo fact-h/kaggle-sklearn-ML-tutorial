{
  "nbformat": 4,
  "nbformat_minor": 0,
  "metadata": {
    "colab": {
      "name": "Pipelines.ipynb",
      "provenance": [],
      "collapsed_sections": [],
      "authorship_tag": "ABX9TyMXlWe0e1tXBkGh334YtH3/",
      "include_colab_link": true
    },
    "kernelspec": {
      "name": "python3",
      "display_name": "Python 3"
    },
    "language_info": {
      "name": "python"
    }
  },
  "cells": [
    {
      "cell_type": "markdown",
      "metadata": {
        "id": "view-in-github",
        "colab_type": "text"
      },
      "source": [
        "<a href=\"https://colab.research.google.com/github/fact-h/kaggle-sklearn-ML-tutorial/blob/main/Pipelines.ipynb\" target=\"_parent\"><img src=\"https://colab.research.google.com/assets/colab-badge.svg\" alt=\"Open In Colab\"/></a>"
      ]
    },
    {
      "cell_type": "markdown",
      "source": [
        ""
      ],
      "metadata": {
        "id": "arVhJy0P6LIw"
      }
    },
    {
      "cell_type": "markdown",
      "source": [
        "# Pipelines"
      ],
      "metadata": {
        "id": "vZc6ygz1Egai"
      }
    },
    {
      "cell_type": "markdown",
      "source": [
        "## 介绍\n",
        "pipelines将数据预处理和建模过程统一组织起来，作为一个整体，使用pipeline可以一步完成数据预处理和建模。好处有：\n",
        "1. 使代码更简洁\n",
        "2. 不易出错\n",
        "3. 容易部署\n",
        "4. 有更多的模型验证方法，比如交叉验证\n"
      ],
      "metadata": {
        "id": "DctZ9mZUE-3A"
      }
    },
    {
      "cell_type": "code",
      "source": [
        "#@title 得到X_train, X_valid, y_train, y_valid\n",
        "import pandas as pd\n",
        "from sklearn.model_selection import train_test_split\n",
        "\n",
        "# Read the data\n",
        "data = pd.read_csv('../input/melbourne-housing-snapshot/melb_data.csv')\n",
        "\n",
        "# Separate target from predictors\n",
        "y = data.Price\n",
        "X = data.drop(['Price'], axis=1)\n",
        "\n",
        "# Divide data into training and validation subsets\n",
        "X_train_full, X_valid_full, y_train, y_valid = train_test_split(X, y, train_size=0.8, test_size=0.2,\n",
        "                                                                random_state=0)\n",
        "\n",
        "# \"Cardinality\" means the number of unique values in a column\n",
        "# Select categorical columns with relatively low cardinality (convenient but arbitrary)\n",
        "categorical_cols = [cname for cname in X_train_full.columns if X_train_full[cname].nunique() < 10 and \n",
        "                        X_train_full[cname].dtype == \"object\"]\n",
        "\n",
        "# Select numerical columns\n",
        "numerical_cols = [cname for cname in X_train_full.columns if X_train_full[cname].dtype in ['int64', 'float64']]\n",
        "\n",
        "# Keep selected columns only\n",
        "my_cols = categorical_cols + numerical_cols\n",
        "X_train = X_train_full[my_cols].copy()\n",
        "X_valid = X_valid_full[my_cols].copy()"
      ],
      "metadata": {
        "cellView": "form",
        "id": "OfVjA7ODNa0U"
      },
      "execution_count": null,
      "outputs": []
    },
    {
      "cell_type": "markdown",
      "source": [
        "### 第一步：定义预处理步\n",
        "使用`ColumnTransformer`类将不同预处理步骤合在一起。\n",
        "\n",
        "- 在**数值**数据中插入缺少值\n",
        "- 在**分类**数据中插入缺少值并应用`one-hot`编码"
      ],
      "metadata": {
        "id": "Xg954n6rLHeA"
      }
    },
    {
      "cell_type": "code",
      "execution_count": null,
      "metadata": {
        "id": "p4HZESOl5hrh",
        "cellView": "code"
      },
      "outputs": [],
      "source": [
        "from sklearn.compose import ColumnTransformer\n",
        "from sklearn.pipeline import Pipeline\n",
        "from sklearn.impute import SimpleImputer\n",
        "from sklearn.preprocessing import OneHotEncoder\n",
        "\n",
        "# Preprocessing for numerical data 对数值数据进行预处理-对缺少值插补\n",
        "numerical_transformer = SimpleImputer(strategy='constant')\n",
        "\n",
        "# Preprocessing for categorical data 对分类数据进行预处理-插补和onehot\n",
        "categorical_transformer = Pipeline(steps=[\n",
        "    ('imputer', SimpleImputer(strategy='most_frequent')),\n",
        "    ('onehot', OneHotEncoder(handle_unknown='ignore'))\n",
        "])\n",
        "\n",
        "# Bundle preprocessing for numerical and categorical data\n",
        "# 将数值数据和分类数据绑定在一起\n",
        "preprocessor = ColumnTransformer(\n",
        "    transformers=[\n",
        "        ('num', numerical_transformer, numerical_cols),\n",
        "        ('cat', categorical_transformer, categorical_cols)\n",
        "    ])"
      ]
    },
    {
      "cell_type": "markdown",
      "source": [
        "## 第二步：定义模型\n",
        "\n",
        "使用`RandomForestRegressor`类定义随机森林模型"
      ],
      "metadata": {
        "id": "l83NVj-OOlGR"
      }
    },
    {
      "cell_type": "code",
      "source": [
        "from sklearn.ensemble import RandomForestRegressor\n",
        "\n",
        "model = RandomForestRegressor(n_estimators=100, random_state=0)"
      ],
      "metadata": {
        "id": "aGu9_jaSQuvN"
      },
      "execution_count": null,
      "outputs": []
    },
    {
      "cell_type": "markdown",
      "source": [
        "## 第三步：创建和评估Pipeline\n",
        "使用`Pipeline`类定义pipeline，将数据预处理和建模步骤绑定在一起。\n",
        "- 使用 pipeline，用一行代码处理训练数据并拟合模型\n",
        "- 使用 pipeline，可直接用未处理的特征`X_valid`做预测，pipeline 会在生成预测结果前自动对特征进行预处理"
      ],
      "metadata": {
        "id": "y8OGCMNYRHzq"
      }
    },
    {
      "cell_type": "code",
      "source": [
        "from sklearn.metrics import mean_absolute_error\n",
        "\n",
        "# Bundle preprocessing and modeling code in a pipeline\n",
        "my_pipeline = Pipeline(steps=[('preprocessor', preprocessor),\n",
        "                              ('model', model)\n",
        "                             ])\n",
        "\n",
        "# Preprocessing of training data, fit model \n",
        "my_pipeline.fit(X_train, y_train)\n",
        "\n",
        "# Preprocessing of validation data, get predictions\n",
        "preds = my_pipeline.predict(X_valid)\n",
        "\n",
        "# Evaluate the model\n",
        "score = mean_absolute_error(y_valid, preds)\n",
        "print('MAE:', score)"
      ],
      "metadata": {
        "id": "fyQccXODSlJV"
      },
      "execution_count": null,
      "outputs": []
    }
  ]
}